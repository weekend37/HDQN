{
 "cells": [
  {
   "cell_type": "code",
   "execution_count": 1,
   "metadata": {
    "colab": {
     "base_uri": "https://localhost:8080/",
     "height": 34
    },
    "colab_type": "code",
    "executionInfo": {
     "elapsed": 433,
     "status": "ok",
     "timestamp": 1591119703583,
     "user": {
      "displayName": "Helgi Hilmarsson",
      "photoUrl": "",
      "userId": "12512875652794739957"
     },
     "user_tz": 420
    },
    "id": "Qq0L8qVUQswu",
    "outputId": "bc7979b6-cee6-4fbe-925d-899342e5f425"
   },
   "outputs": [
    {
     "name": "stdout",
     "output_type": "stream",
     "text": [
      "Running on cpu\n"
     ]
    }
   ],
   "source": [
    "import sys\n",
    "import numpy as np\n",
    "import random\n",
    "import matplotlib\n",
    "import matplotlib.pyplot as plt\n",
    "%matplotlib inline\n",
    "import math\n",
    "import glob\n",
    "import io\n",
    "import os\n",
    "import base64\n",
    "from collections import deque\n",
    "from collections import namedtuple\n",
    "import pickle \n",
    "\n",
    "display\n",
    "from IPython.display import HTML\n",
    "from IPython import display as ipythondisplay\n",
    "from pyvirtualdisplay import Display\n",
    "import logging\n",
    "\n",
    "# gym\n",
    "import gym\n",
    "from gym import logger as gymlogger\n",
    "from gym.wrappers import Monitor\n",
    "gymlogger.set_level(40) #error only\n",
    "\n",
    "# Local .py files\n",
    "from visualization import *\n",
    "from DQN import *\n",
    "from DQN_utils import *\n",
    "from DQN_agent import *\n",
    "from HDQN import *\n",
    "from HDQN_2head import *\n",
    "from HDQN_agent import *\n",
    "\n",
    "# for auto-reloading external modules\n",
    "# see http://stackoverflow.com/questions/1907993/autoreload-of-modules-in-ipython\n",
    "%load_ext autoreload\n",
    "%autoreload 2\n",
    "\n",
    "device = torch.device(\"cuda\" if torch.cuda.is_available() else \"cpu\")\n",
    "print(\"Running on\", device)"
   ]
  },
  {
   "cell_type": "code",
   "execution_count": 9,
   "metadata": {},
   "outputs": [],
   "source": [
    "CHECKPOINT_FOLDERNAME = \"checkpoints/\"\n",
    "CHECKPOINT_PREFIX=\"hdqn_skipframe\"\n",
    "MEMORY_SIZE = 1e4\n",
    "BURN_IN = 1e5\n",
    "LEARNING_RATE = 2.5e-4\n",
    "GAMMA = 0.99\n",
    "MAX_EPISODES = 500\n",
    "EPSILON = 0.25\n",
    "INITIAL_EPSILON = 1; FINAL_EPSILON=0.1; FINAL_EPSILON_EPISODE = 10;\n",
    "NETWORK_SYNC_FREQ = 10000\n",
    "NETWORK_UPDATE_FREQ = 4\n",
    "NETWORK_SAVE_FREQ = 100\n",
    "NETWORK_EVALUATE_FREQ = 100\n",
    "N_VAL_EPISODES = 1\n",
    "OPTION_LEN = 50\n",
    "META_BURN_IN_EP = 0"
   ]
  },
  {
   "cell_type": "code",
   "execution_count": 11,
   "metadata": {
    "colab": {
     "base_uri": "https://localhost:8080/",
     "height": 630
    },
    "colab_type": "code",
    "executionInfo": {
     "elapsed": 86525,
     "status": "ok",
     "timestamp": 1591119790346,
     "user": {
      "displayName": "Helgi Hilmarsson",
      "photoUrl": "",
      "userId": "12512875652794739957"
     },
     "user_tz": 420
    },
    "id": "VxP8UJP1wJXy",
    "outputId": "6cf109cd-c9ed-47c0-a7b4-670a07d66981"
   },
   "outputs": [
    {
     "name": "stdout",
     "output_type": "stream",
     "text": [
      "Populating replay buffer...\n",
      "Beginning training...\n",
      "1\n",
      "Episode 1 Mean Rewards 310.00\t\t0.91\n",
      "Episode 2 Mean Rewards 305.00\t\t0.8200000000000001\n",
      "Episode 3 Mean Rewards 316.67\t\t0.7300000000000001\n",
      "Episode 4 Mean Rewards 377.50\t\t0.6400000000000001\n",
      "Episode 5 Mean Rewards 448.00\t\t0.5500000000000002\n",
      "Episode 6 Mean Rewards 413.33\t\t0.4600000000000002\n",
      "Episode 7 Mean Rewards 402.86\t\t0.3700000000000002\n",
      "Episode 8 Mean Rewards 455.00\t\t0.28000000000000025\n",
      "Episode 9 Mean Rewards 417.78\t\t0.19000000000000025\n",
      "Episode 10 Mean Rewards 403.00\t\t0.10000000000000026\n",
      "Episode 11 Mean Rewards 397.27\t\t0.010000000000000259\n",
      "Episode 12 Mean Rewards 378.33\t\t0.010000000000000259\n",
      "Episode 13 Mean Rewards 364.62\t\t0.010000000000000259\n",
      "Episode 14 Mean Rewards 353.57\t\t0.010000000000000259\n",
      "Episode 15 Mean Rewards 342.00\t\t0.010000000000000259\n",
      "Episode 16 Mean Rewards 339.38\t\t0.010000000000000259\n",
      "Episode 17 Mean Rewards 322.94\t\t0.010000000000000259\n",
      "Episode 18 Mean Rewards 310.00\t\t0.010000000000000259\n",
      "Episode 19 Mean Rewards 296.84\t\t0.010000000000000259\n",
      "Episode 20 Mean Rewards 296.00\t\t0.010000000000000259\n",
      "Episode 21 Mean Rewards 286.19\t\t0.010000000000000259\n"
     ]
    },
    {
     "ename": "KeyboardInterrupt",
     "evalue": "",
     "output_type": "error",
     "traceback": [
      "\u001b[0;31m---------------------------------------------------------------------------\u001b[0m",
      "\u001b[0;31mKeyboardInterrupt\u001b[0m                         Traceback (most recent call last)",
      "\u001b[0;32m<ipython-input-11-a8b0e81bdb5b>\u001b[0m in \u001b[0;36m<module>\u001b[0;34m\u001b[0m\n\u001b[1;32m     21\u001b[0m     \u001b[0mepsilon_end\u001b[0m\u001b[0;34m=\u001b[0m\u001b[0mFINAL_EPSILON\u001b[0m\u001b[0;34m,\u001b[0m\u001b[0;34m\u001b[0m\u001b[0;34m\u001b[0m\u001b[0m\n\u001b[1;32m     22\u001b[0m     \u001b[0mepsilon_final_episode\u001b[0m\u001b[0;34m=\u001b[0m\u001b[0mFINAL_EPSILON_EPISODE\u001b[0m\u001b[0;34m,\u001b[0m\u001b[0;34m\u001b[0m\u001b[0;34m\u001b[0m\u001b[0m\n\u001b[0;32m---> 23\u001b[0;31m     \u001b[0mmeta_burn_in_ep\u001b[0m\u001b[0;34m=\u001b[0m\u001b[0mMETA_BURN_IN_EP\u001b[0m\u001b[0;34m\u001b[0m\u001b[0;34m\u001b[0m\u001b[0m\n\u001b[0m\u001b[1;32m     24\u001b[0m )\n",
      "\u001b[0;32m~/Documents/Stanford/MS/Q3/CS231N/Project/HDQN_agent.py\u001b[0m in \u001b[0;36mtrain\u001b[0;34m(self, gamma, max_episodes, batch_size, network_update_frequency, network_sync_frequency, network_save_frequency, network_evaluate_frequency, n_val_episodes, start_from_eps, checkpoint_path, checkpoint_prefix, plot_result, epsilon_start, epsilon_end, epsilon_final_episode, op_ratio_n_bins, meta_burn_in_ep)\u001b[0m\n\u001b[1;32m    187\u001b[0m                     \u001b[0mself\u001b[0m\u001b[0;34m.\u001b[0m\u001b[0mtake_option\u001b[0m\u001b[0;34m(\u001b[0m\u001b[0mmode\u001b[0m\u001b[0;34m=\u001b[0m\u001b[0mmeta_mode\u001b[0m\u001b[0;34m)\u001b[0m \u001b[0;31m# Take next option\u001b[0m\u001b[0;34m\u001b[0m\u001b[0;34m\u001b[0m\u001b[0m\n\u001b[1;32m    188\u001b[0m \u001b[0;34m\u001b[0m\u001b[0m\n\u001b[0;32m--> 189\u001b[0;31m                 \u001b[0mdone\u001b[0m \u001b[0;34m=\u001b[0m \u001b[0mself\u001b[0m\u001b[0;34m.\u001b[0m\u001b[0mtake_step\u001b[0m\u001b[0;34m(\u001b[0m\u001b[0mmode\u001b[0m\u001b[0;34m=\u001b[0m\u001b[0;34m'train'\u001b[0m\u001b[0;34m)\u001b[0m\u001b[0;34m\u001b[0m\u001b[0;34m\u001b[0m\u001b[0m\n\u001b[0m\u001b[1;32m    190\u001b[0m \u001b[0;34m\u001b[0m\u001b[0m\n\u001b[1;32m    191\u001b[0m                 \u001b[0;31m# Update options networks\u001b[0m\u001b[0;34m\u001b[0m\u001b[0;34m\u001b[0m\u001b[0;34m\u001b[0m\u001b[0m\n",
      "\u001b[0;32m~/Documents/Stanford/MS/Q3/CS231N/Project/HDQN_agent.py\u001b[0m in \u001b[0;36mtake_step\u001b[0;34m(self, mode)\u001b[0m\n\u001b[1;32m     82\u001b[0m             \u001b[0mself\u001b[0m\u001b[0;34m.\u001b[0m\u001b[0mstate_buffer\u001b[0m\u001b[0;34m.\u001b[0m\u001b[0mappend\u001b[0m\u001b[0;34m(\u001b[0m\u001b[0mself\u001b[0m\u001b[0;34m.\u001b[0m\u001b[0ms_0\u001b[0m\u001b[0;34m)\u001b[0m\u001b[0;34m\u001b[0m\u001b[0;34m\u001b[0m\u001b[0m\n\u001b[1;32m     83\u001b[0m             \u001b[0ms_1_raw_i\u001b[0m\u001b[0;34m,\u001b[0m \u001b[0mr_raw_i\u001b[0m\u001b[0;34m,\u001b[0m \u001b[0mdone\u001b[0m\u001b[0;34m,\u001b[0m \u001b[0m_\u001b[0m \u001b[0;34m=\u001b[0m \u001b[0mself\u001b[0m\u001b[0;34m.\u001b[0m\u001b[0menv\u001b[0m\u001b[0;34m.\u001b[0m\u001b[0mstep\u001b[0m\u001b[0;34m(\u001b[0m\u001b[0maction\u001b[0m\u001b[0;34m)\u001b[0m\u001b[0;34m\u001b[0m\u001b[0;34m\u001b[0m\u001b[0m\n\u001b[0;32m---> 84\u001b[0;31m             \u001b[0ms_1_i\u001b[0m \u001b[0;34m=\u001b[0m \u001b[0mpreprocess\u001b[0m\u001b[0;34m(\u001b[0m\u001b[0ms_1_raw_i\u001b[0m\u001b[0;34m)\u001b[0m\u001b[0;34m\u001b[0m\u001b[0;34m\u001b[0m\u001b[0m\n\u001b[0m\u001b[1;32m     85\u001b[0m             \u001b[0mself\u001b[0m\u001b[0;34m.\u001b[0m\u001b[0mnext_state_buffer\u001b[0m\u001b[0;34m.\u001b[0m\u001b[0mappend\u001b[0m\u001b[0;34m(\u001b[0m\u001b[0ms_1_i\u001b[0m\u001b[0;34m.\u001b[0m\u001b[0mcopy\u001b[0m\u001b[0;34m(\u001b[0m\u001b[0;34m)\u001b[0m\u001b[0;34m)\u001b[0m\u001b[0;34m\u001b[0m\u001b[0;34m\u001b[0m\u001b[0m\n\u001b[1;32m     86\u001b[0m             \u001b[0mself\u001b[0m\u001b[0;34m.\u001b[0m\u001b[0ms_0\u001b[0m \u001b[0;34m=\u001b[0m \u001b[0ms_1_i\u001b[0m\u001b[0;34m.\u001b[0m\u001b[0mcopy\u001b[0m\u001b[0;34m(\u001b[0m\u001b[0;34m)\u001b[0m\u001b[0;34m\u001b[0m\u001b[0;34m\u001b[0m\u001b[0m\n",
      "\u001b[0;32m~/Documents/Stanford/MS/Q3/CS231N/Project/DQN_utils.py\u001b[0m in \u001b[0;36mpreprocess\u001b[0;34m(img, gray, H, W)\u001b[0m\n\u001b[1;32m     31\u001b[0m \u001b[0;32mdef\u001b[0m \u001b[0mpreprocess\u001b[0m\u001b[0;34m(\u001b[0m\u001b[0mimg\u001b[0m\u001b[0;34m,\u001b[0m \u001b[0mgray\u001b[0m\u001b[0;34m=\u001b[0m\u001b[0;32mTrue\u001b[0m\u001b[0;34m,\u001b[0m \u001b[0mH\u001b[0m\u001b[0;34m=\u001b[0m\u001b[0;36m84\u001b[0m\u001b[0;34m,\u001b[0m \u001b[0mW\u001b[0m\u001b[0;34m=\u001b[0m\u001b[0;36m84\u001b[0m\u001b[0;34m)\u001b[0m\u001b[0;34m:\u001b[0m\u001b[0;34m\u001b[0m\u001b[0;34m\u001b[0m\u001b[0m\n\u001b[1;32m     32\u001b[0m   \u001b[0;32mif\u001b[0m \u001b[0mgray\u001b[0m\u001b[0;34m:\u001b[0m\u001b[0;34m\u001b[0m\u001b[0;34m\u001b[0m\u001b[0m\n\u001b[0;32m---> 33\u001b[0;31m     \u001b[0mimg\u001b[0m \u001b[0;34m=\u001b[0m \u001b[0mnp\u001b[0m\u001b[0;34m.\u001b[0m\u001b[0mdot\u001b[0m\u001b[0;34m(\u001b[0m\u001b[0mimg\u001b[0m\u001b[0;34m[\u001b[0m\u001b[0;34m...\u001b[0m\u001b[0;34m,\u001b[0m\u001b[0;34m:\u001b[0m\u001b[0;36m3\u001b[0m\u001b[0;34m]\u001b[0m\u001b[0;34m,\u001b[0m \u001b[0;34m[\u001b[0m\u001b[0;36m0.299\u001b[0m\u001b[0;34m,\u001b[0m \u001b[0;36m0.587\u001b[0m\u001b[0;34m,\u001b[0m \u001b[0;36m0.114\u001b[0m\u001b[0;34m]\u001b[0m\u001b[0;34m)\u001b[0m \u001b[0;31m# grayscale\u001b[0m\u001b[0;34m\u001b[0m\u001b[0;34m\u001b[0m\u001b[0m\n\u001b[0m\u001b[1;32m     34\u001b[0m     \u001b[0mimg\u001b[0m \u001b[0;34m=\u001b[0m \u001b[0mnp\u001b[0m\u001b[0;34m.\u001b[0m\u001b[0mresize\u001b[0m\u001b[0;34m(\u001b[0m\u001b[0mimg\u001b[0m\u001b[0;34m,\u001b[0m \u001b[0;34m(\u001b[0m\u001b[0mH\u001b[0m\u001b[0;34m,\u001b[0m \u001b[0mW\u001b[0m\u001b[0;34m)\u001b[0m\u001b[0;34m)\u001b[0m \u001b[0;31m# resize\u001b[0m\u001b[0;34m\u001b[0m\u001b[0;34m\u001b[0m\u001b[0m\n\u001b[1;32m     35\u001b[0m     \u001b[0;32mreturn\u001b[0m \u001b[0mimg\u001b[0m\u001b[0;34m/\u001b[0m\u001b[0;36m255\u001b[0m \u001b[0;31m# normalize\u001b[0m\u001b[0;34m\u001b[0m\u001b[0;34m\u001b[0m\u001b[0m\n",
      "\u001b[0;31mKeyboardInterrupt\u001b[0m: "
     ]
    }
   ],
   "source": [
    "env = gym.make(\"MsPacman-v0\")\n",
    "D = experienceReplayBuffer(memory_size=MEMORY_SIZE)\n",
    "hdqn = HDQN(\n",
    "    env, \n",
    "    learning_rate = LEARNING_RATE,\n",
    "    device = device, \n",
    "    checkpoint_path = CHECKPOINT_FOLDERNAME\n",
    ")\n",
    "agent = HDQN_agent(env, hdqn, D, epsilon=EPSILON, option_len=OPTION_LEN)\n",
    "agent.train(\n",
    "    gamma=GAMMA,\n",
    "    max_episodes=MAX_EPISODES,\n",
    "    network_update_frequency = NETWORK_UPDATE_FREQ,\n",
    "    network_sync_frequency = NETWORK_SYNC_FREQ,\n",
    "    network_save_frequency = NETWORK_SAVE_FREQ,\n",
    "    network_evaluate_frequency=NETWORK_EVALUATE_FREQ,\n",
    "    n_val_episodes=N_VAL_EPISODES,\n",
    "    checkpoint_path = CHECKPOINT_FOLDERNAME,\n",
    "    checkpoint_prefix = CHECKPOINT_PREFIX,\n",
    "    epsilon_start=INITIAL_EPSILON,\n",
    "    epsilon_end=FINAL_EPSILON,\n",
    "    epsilon_final_episode=FINAL_EPSILON_EPISODE,\n",
    "    meta_burn_in_ep=META_BURN_IN_EP\n",
    ")"
   ]
  },
  {
   "cell_type": "code",
   "execution_count": null,
   "metadata": {},
   "outputs": [],
   "source": []
  },
  {
   "cell_type": "code",
   "execution_count": null,
   "metadata": {},
   "outputs": [],
   "source": []
  }
 ],
 "metadata": {
  "accelerator": "GPU",
  "colab": {
   "authorship_tag": "ABX9TyOv6G6f5dLeMmxGKH4UM9rN",
   "collapsed_sections": [],
   "mount_file_id": "1EkmwtziVswndk0P2Zb8oJdkt5ccAsvDl",
   "name": "HDQN_Pacman.ipynb",
   "provenance": []
  },
  "kernelspec": {
   "display_name": "Python 3",
   "language": "python",
   "name": "python3"
  },
  "language_info": {
   "codemirror_mode": {
    "name": "ipython",
    "version": 3
   },
   "file_extension": ".py",
   "mimetype": "text/x-python",
   "name": "python",
   "nbconvert_exporter": "python",
   "pygments_lexer": "ipython3",
   "version": "3.6.10"
  }
 },
 "nbformat": 4,
 "nbformat_minor": 1
}
