{
 "cells": [
  {
   "cell_type": "code",
   "execution_count": 12,
   "metadata": {
    "colab": {
     "base_uri": "https://localhost:8080/",
     "height": 34
    },
    "colab_type": "code",
    "executionInfo": {
     "elapsed": 433,
     "status": "ok",
     "timestamp": 1591119703583,
     "user": {
      "displayName": "Helgi Hilmarsson",
      "photoUrl": "",
      "userId": "12512875652794739957"
     },
     "user_tz": 420
    },
    "id": "Qq0L8qVUQswu",
    "outputId": "bc7979b6-cee6-4fbe-925d-899342e5f425"
   },
   "outputs": [
    {
     "name": "stdout",
     "output_type": "stream",
     "text": [
      "The autoreload extension is already loaded. To reload it, use:\n",
      "  %reload_ext autoreload\n",
      "Running on cpu\n"
     ]
    }
   ],
   "source": [
    "import sys\n",
    "import numpy as np\n",
    "import random\n",
    "import matplotlib\n",
    "import matplotlib.pyplot as plt\n",
    "%matplotlib inline\n",
    "import math\n",
    "import glob\n",
    "import io\n",
    "import os\n",
    "import base64\n",
    "from collections import deque\n",
    "from collections import namedtuple\n",
    "import pickle \n",
    "\n",
    "display\n",
    "from IPython.display import HTML\n",
    "from IPython import display as ipythondisplay\n",
    "from pyvirtualdisplay import Display\n",
    "import logging\n",
    "\n",
    "# gym\n",
    "import gym\n",
    "from gym import logger as gymlogger\n",
    "from gym.wrappers import Monitor\n",
    "gymlogger.set_level(40) #error only\n",
    "\n",
    "# Local .py files\n",
    "from visualization import *\n",
    "from DQN import *\n",
    "from DQN_utils import *\n",
    "from DQN_agent import *\n",
    "from HDQN import *\n",
    "from HDQN_2head import *\n",
    "from HDQN_agent import *\n",
    "\n",
    "# for auto-reloading external modules\n",
    "# see http://stackoverflow.com/questions/1907993/autoreload-of-modules-in-ipython\n",
    "%load_ext autoreload\n",
    "%autoreload 2\n",
    "\n",
    "device = torch.device(\"cuda\" if torch.cuda.is_available() else \"cpu\")\n",
    "print(\"Running on\", device)"
   ]
  },
  {
   "cell_type": "code",
   "execution_count": 21,
   "metadata": {},
   "outputs": [],
   "source": [
    "CHECKPOINT_FOLDERNAME = \"checkpoints/\"\n",
    "CHECKPOINT_PREFIX=\"hdqn_2head_V2\"\n",
    "MEMORY_SIZE = 1e2\n",
    "BURN_IN = 1e5\n",
    "LEARNING_RATE = 2.5e-4\n",
    "GAMMA = 0.99\n",
    "MAX_EPISODES = 5000\n",
    "EPSILON = 0.25\n",
    "INITIAL_EPSILON = 1; FINAL_EPSILON=0.1; FINAL_EPSILON_EPISODE = 10;\n",
    "NETWORK_SYNC_FREQ = 10000\n",
    "NETWORK_UPDATE_FREQ = 4\n",
    "NETWORK_SAVE_FREQ = 100\n",
    "NETWORK_EVALUATE_FREQ = 1000\n",
    "N_VAL_EPISODES = 10\n",
    "OPTION_LEN = 10\n",
    "META_BURN_IN_EP = 0"
   ]
  },
  {
   "cell_type": "code",
   "execution_count": null,
   "metadata": {
    "colab": {
     "base_uri": "https://localhost:8080/",
     "height": 630
    },
    "colab_type": "code",
    "executionInfo": {
     "elapsed": 86525,
     "status": "ok",
     "timestamp": 1591119790346,
     "user": {
      "displayName": "Helgi Hilmarsson",
      "photoUrl": "",
      "userId": "12512875652794739957"
     },
     "user_tz": 420
    },
    "id": "VxP8UJP1wJXy",
    "outputId": "6cf109cd-c9ed-47c0-a7b4-670a07d66981"
   },
   "outputs": [
    {
     "name": "stdout",
     "output_type": "stream",
     "text": [
      "Populating replay buffer...\n",
      "Beginning training...\n",
      "Episode 13 Mean Rewards 523.08\t\t"
     ]
    }
   ],
   "source": [
    "env = gym.make(\"MsPacman-v0\")\n",
    "D = experienceReplayBuffer(memory_size=MEMORY_SIZE)\n",
    "hdqn = HDQN_2head(\n",
    "    env, \n",
    "    learning_rate = LEARNING_RATE,\n",
    "    device = device, \n",
    "    checkpoint_path = CHECKPOINT_FOLDERNAME\n",
    ")\n",
    "agent = HDQN_agent(env, hdqn, D, epsilon=EPSILON, option_len=OPTION_LEN)\n",
    "agent.train(\n",
    "    gamma=GAMMA,\n",
    "    max_episodes=MAX_EPISODES,\n",
    "    network_update_frequency = NETWORK_UPDATE_FREQ,\n",
    "    network_sync_frequency = NETWORK_SYNC_FREQ,\n",
    "    network_save_frequency = NETWORK_SAVE_FREQ,\n",
    "    network_evaluate_frequency=NETWORK_EVALUATE_FREQ,\n",
    "    n_val_episodes=N_VAL_EPISODES,\n",
    "    checkpoint_path = CHECKPOINT_FOLDERNAME,\n",
    "    checkpoint_prefix = CHECKPOINT_PREFIX,\n",
    "    epsilon_start=INITIAL_EPSILON,\n",
    "    epsilon_end=FINAL_EPSILON,\n",
    "    epsilon_final_episode=FINAL_EPSILON_EPISODE,\n",
    "    meta_burn_in_ep=META_BURN_IN_EP\n",
    ")"
   ]
  },
  {
   "cell_type": "code",
   "execution_count": null,
   "metadata": {},
   "outputs": [],
   "source": []
  },
  {
   "cell_type": "code",
   "execution_count": null,
   "metadata": {},
   "outputs": [],
   "source": []
  }
 ],
 "metadata": {
  "accelerator": "GPU",
  "colab": {
   "authorship_tag": "ABX9TyOv6G6f5dLeMmxGKH4UM9rN",
   "collapsed_sections": [],
   "mount_file_id": "1EkmwtziVswndk0P2Zb8oJdkt5ccAsvDl",
   "name": "HDQN_Pacman.ipynb",
   "provenance": []
  },
  "kernelspec": {
   "display_name": "Python 3",
   "language": "python",
   "name": "python3"
  },
  "language_info": {
   "codemirror_mode": {
    "name": "ipython",
    "version": 3
   },
   "file_extension": ".py",
   "mimetype": "text/x-python",
   "name": "python",
   "nbconvert_exporter": "python",
   "pygments_lexer": "ipython3",
   "version": "3.6.10"
  }
 },
 "nbformat": 4,
 "nbformat_minor": 1
}
